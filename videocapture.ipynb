{
 "cells": [
  {
   "cell_type": "code",
   "execution_count": null,
   "metadata": {},
   "outputs": [],
   "source": [
    "\n",
    "# 동영상 프로세싱\n",
    "\n",
    "import datetime\n",
    "\n",
    "import cv2\n",
    "\n",
    " \n",
    "\n",
    "capture = cv2.VideoCapture(\"C:/vod/avenger.mp4\")\n",
    "\n",
    " \n",
    "\n",
    "width = int(capture.get(3))  # 가로\n",
    "\n",
    "height = int(capture.get(4))  # 세로값 가져와서\n",
    "\n",
    " \n",
    "\n",
    "while (capture.isOpened):\n",
    "\n",
    "    ret, frame = capture.read()\n",
    "\n",
    "    if ret == False:\n",
    "\n",
    "        break\n",
    "\n",
    "    cv2.imshow(\"VideoFrame\", frame)\n",
    "\n",
    " \n",
    "\n",
    "    now = datetime.datetime.now().strftime(\"%d_%H-%M-%S\")\n",
    "\n",
    "    key = cv2.waitKey(33)  # 1) & 0xFF\n",
    "\n",
    " \n",
    "\n",
    "    if key == 27:  # esc 종료\n",
    "\n",
    "        break\n",
    "\n",
    "    elif key == 26:  # ctrl + z\n",
    "\n",
    "       cv2.IMREAD_UNCHANGED\n",
    "\n",
    "        cv2.imwrite(\"C:/vod/capture/cap01\" + \".png\", frame)\n",
    "\n",
    " \n",
    "\n",
    "capture.release()\n",
    "\n",
    "cv2.destroyAllWindows()"
   ]
  }
 ],
 "metadata": {
  "kernelspec": {
   "display_name": "Python 3",
   "language": "python",
   "name": "python3"
  },
  "language_info": {
   "codemirror_mode": {
    "name": "ipython",
    "version": 3
   },
   "file_extension": ".py",
   "mimetype": "text/x-python",
   "name": "python",
   "nbconvert_exporter": "python",
   "pygments_lexer": "ipython3",
   "version": "3.7.6"
  }
 },
 "nbformat": 4,
 "nbformat_minor": 4
}
